{
 "cells": [
  {
   "cell_type": "code",
   "execution_count": 35,
   "metadata": {},
   "outputs": [],
   "source": [
    "import os\n",
    "os.chdir(\"E:/Projects/cnnClassifier\")"
   ]
  },
  {
   "cell_type": "code",
   "execution_count": 36,
   "metadata": {},
   "outputs": [
    {
     "data": {
      "text/plain": [
       "'E:\\\\Projects\\\\cnnClassifier'"
      ]
     },
     "execution_count": 36,
     "metadata": {},
     "output_type": "execute_result"
    }
   ],
   "source": [
    "%pwd"
   ]
  },
  {
   "cell_type": "code",
   "execution_count": 37,
   "metadata": {},
   "outputs": [],
   "source": [
    "from dataclasses import dataclass\n",
    "from pathlib import Path\n",
    "\n",
    "@dataclass(frozen=True)\n",
    "class DataIngestionConfig:\n",
    "    root_dir: Path\n",
    "    source_URL: str\n",
    "    local_data_file: Path\n",
    "    unzip_dir: Path"
   ]
  },
  {
   "cell_type": "code",
   "execution_count": 38,
   "metadata": {},
   "outputs": [],
   "source": [
    "from src.Chest_Cancer_Classifier.constants import *\n",
    "from src.Chest_Cancer_Classifier.utils.common import read_yaml,create_directories"
   ]
  },
  {
   "cell_type": "code",
   "execution_count": 39,
   "metadata": {},
   "outputs": [],
   "source": [
    "class ConfigurationManager:\n",
    "    def __init__(self, config_filepath= CONFIG_FILE_PATH, params_filepath=PARAMS_FILE_PATH):\n",
    "        self.config= read_yaml(config_filepath)\n",
    "        self.params= read_yaml(params_filepath)\n",
    "\n",
    "        create_directories([self.config.artifacts_root])\n",
    "\n",
    "    def get_data_ingestion_config(self) -> DataIngestionConfig:\n",
    "        config= self.config.data_ingestion\n",
    "\n",
    "        create_directories([config.root_dir])\n",
    "\n",
    "        data_ingestion_config= DataIngestionConfig(\n",
    "            root_dir=config.root_dir,\n",
    "            source_URL=config.source_URL,\n",
    "            local_data_file=config.local_data_file,\n",
    "            unzip_dir= config.unzip_dir\n",
    "        )\n",
    "        return data_ingestion_config"
   ]
  },
  {
   "cell_type": "code",
   "execution_count": 40,
   "metadata": {},
   "outputs": [],
   "source": [
    "import os\n",
    "import zipfile\n",
    "import gdown\n",
    "from Chest_Cancer_Classifier import logger\n",
    "from Chest_Cancer_Classifier.utils.common import get_size"
   ]
  },
  {
   "cell_type": "code",
   "execution_count": 41,
   "metadata": {},
   "outputs": [],
   "source": [
    "class DataIngestion:\n",
    "    def __init__(self, config: DataIngestionConfig):\n",
    "        self.config=config\n",
    "\n",
    "    def download_file(self)->str:\n",
    "        #Will fetch data from url\n",
    "\n",
    "        try:\n",
    "            dataset_url=self.config.source_URL\n",
    "            zip_download_dir=self.config.local_data_file\n",
    "            os.makedirs(\"artifacts/data_ingestion\", exist_ok=True)\n",
    "            logger.info(f\"downloading data from {dataset_url} into file {zip_download_dir}\")\n",
    "            \n",
    "            file_id= dataset_url.split(\"/\")[-2]\n",
    "            prefix=\"https://drive.google.com/uc?id=\"\n",
    "            suffix=\"&export=download\"\n",
    "            gdown.download(prefix+file_id+suffix, zip_download_dir)\n",
    "            \n",
    "\n",
    "            logger.info(f'downloaded data from {dataset_url} into file {zip_download_dir}')\n",
    "\n",
    "        except Exception as e:\n",
    "            raise e\n",
    "    def extract_zip_file(self):\n",
    "        unzip_path= self.config.unzip_dir\n",
    "        os.makedirs(unzip_path, exist_ok=True)\n",
    "        with zipfile.ZipFile(self.config.local_data_file, 'r') as zip_ref:\n",
    "            zip_ref.extractall(unzip_path)   \n",
    "\n",
    "      "
   ]
  },
  {
   "cell_type": "code",
   "execution_count": 42,
   "metadata": {},
   "outputs": [
    {
     "name": "stdout",
     "output_type": "stream",
     "text": [
      "[2025-06-20 15:47:19,795: INFO: common: yaml file: config\\config.yaml loaded successfully]\n",
      "[2025-06-20 15:47:19,805: INFO: common: yaml file: params.yaml loaded successfully]\n",
      "[2025-06-20 15:47:19,808: INFO: common: created directory at: artifacts]\n",
      "[2025-06-20 15:47:19,810: INFO: common: created directory at: artifacts/data_ingestion]\n",
      "[2025-06-20 15:47:19,812: INFO: 577542624: downloading data from https://drive.google.com/file/d/1DP_YT-SKL3xxOCKcNfinUICt6D1M_zHv/view?usp=sharing into file artifacts/data_ingestion/data.zip]\n"
     ]
    },
    {
     "name": "stderr",
     "output_type": "stream",
     "text": [
      "Downloading...\n",
      "From (original): https://drive.google.com/uc?id=1DP_YT-SKL3xxOCKcNfinUICt6D1M_zHv&export=download\n",
      "From (redirected): https://drive.google.com/uc?id=1DP_YT-SKL3xxOCKcNfinUICt6D1M_zHv&export=download&confirm=t&uuid=01538fcf-d174-4ba4-afc6-da00cd7d95d0\n",
      "To: E:\\Projects\\cnnClassifier\\artifacts\\data_ingestion\\data.zip\n",
      "100%|██████████| 57.8M/57.8M [00:15<00:00, 3.75MB/s]"
     ]
    },
    {
     "name": "stdout",
     "output_type": "stream",
     "text": [
      "[2025-06-20 15:47:38,872: INFO: 577542624: downloaded data from https://drive.google.com/file/d/1DP_YT-SKL3xxOCKcNfinUICt6D1M_zHv/view?usp=sharing into file artifacts/data_ingestion/data.zip]\n"
     ]
    },
    {
     "name": "stderr",
     "output_type": "stream",
     "text": [
      "\n"
     ]
    }
   ],
   "source": [
    "try:\n",
    "        config=ConfigurationManager()\n",
    "        data_ingestion_config= config.get_data_ingestion_config()\n",
    "        data_ingestion= DataIngestion(config=data_ingestion_config)\n",
    "        data_ingestion.download_file()\n",
    "        data_ingestion.extract_zip_file()\n",
    "except Exception as e:\n",
    "        raise e\n",
    "\n",
    "    "
   ]
  },
  {
   "cell_type": "code",
   "execution_count": 43,
   "metadata": {},
   "outputs": [
    {
     "name": "stdout",
     "output_type": "stream",
     "text": [
      "<class 'box.config_box.ConfigBox'>\n"
     ]
    }
   ],
   "source": [
    "from box import ConfigBox\n",
    "print(ConfigBox)"
   ]
  },
  {
   "cell_type": "code",
   "execution_count": null,
   "metadata": {},
   "outputs": [],
   "source": []
  }
 ],
 "metadata": {
  "kernelspec": {
   "display_name": ".venv",
   "language": "python",
   "name": "python3"
  },
  "language_info": {
   "codemirror_mode": {
    "name": "ipython",
    "version": 3
   },
   "file_extension": ".py",
   "mimetype": "text/x-python",
   "name": "python",
   "nbconvert_exporter": "python",
   "pygments_lexer": "ipython3",
   "version": "3.12.3"
  }
 },
 "nbformat": 4,
 "nbformat_minor": 2
}
